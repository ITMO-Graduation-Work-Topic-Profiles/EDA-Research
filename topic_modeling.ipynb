{
 "cells": [
  {
   "cell_type": "code",
   "id": "initial_id",
   "metadata": {
    "collapsed": true,
    "ExecuteTime": {
     "end_time": "2025-04-27T19:06:52.276205Z",
     "start_time": "2025-04-27T19:06:50.997645Z"
    }
   },
   "source": [
    "import bitermplus as btm\n",
    "from gensim import corpora\n",
    "from gensim.models import LdaModel\n",
    "from spacy import load\n",
    "import kagglehub\n",
    "import pandas as pd\n",
    "import numpy as np\n",
    "import os\n",
    "import tmplot as tmp\n",
    "from gensim.models import CoherenceModel\n",
    "import seaborn as sns\n",
    "import matplotlib.pyplot as plt"
   ],
   "outputs": [],
   "execution_count": 3
  },
  {
   "metadata": {},
   "cell_type": "markdown",
   "source": "### Download datasets",
   "id": "d5d0bd5d043b9b3e"
  },
  {
   "metadata": {
    "ExecuteTime": {
     "end_time": "2025-04-27T19:06:54.052177Z",
     "start_time": "2025-04-27T19:06:53.317200Z"
    }
   },
   "cell_type": "code",
   "source": [
    "movie_dataset_path = kagglehub.dataset_download(\n",
    "    \"rajathmc/cornell-moviedialog-corpus\"\n",
    ")"
   ],
   "id": "c2d9c3b113da3db3",
   "outputs": [],
   "execution_count": 4
  },
  {
   "metadata": {
    "ExecuteTime": {
     "end_time": "2025-04-27T19:06:55.291122Z",
     "start_time": "2025-04-27T19:06:54.602226Z"
    }
   },
   "cell_type": "code",
   "source": [
    "simpsons_dataset_path = kagglehub.dataset_download(\n",
    "    \"pierremegret/dialogue-lines-of-the-simpsons\"\n",
    ")"
   ],
   "id": "5abddeeb60ada3e",
   "outputs": [],
   "execution_count": 5
  },
  {
   "metadata": {
    "ExecuteTime": {
     "end_time": "2025-04-27T19:06:55.819424Z",
     "start_time": "2025-04-27T19:06:55.706629Z"
    }
   },
   "cell_type": "code",
   "source": [
    "with open(os.path.join(movie_dataset_path, \"movie_lines.txt\"), encoding=\"iso-8859-1\") as f:\n",
    "    movie_texts = [line.split(\" +++$+++ \")[-1].strip() for line in f]"
   ],
   "id": "cbd65b0003a7e755",
   "outputs": [],
   "execution_count": 6
  },
  {
   "metadata": {
    "ExecuteTime": {
     "end_time": "2025-04-27T19:06:56.405404Z",
     "start_time": "2025-04-27T19:06:56.324315Z"
    }
   },
   "cell_type": "code",
   "source": "simpsons_texts = pd.read_csv(os.path.join(simpsons_dataset_path, \"simpsons_dataset.csv\"))[\"spoken_words\"].dropna().tolist()",
   "id": "8a3f9791872ec4ec",
   "outputs": [],
   "execution_count": 7
  },
  {
   "metadata": {
    "ExecuteTime": {
     "end_time": "2025-04-27T19:06:57.143071Z",
     "start_time": "2025-04-27T19:06:57.140162Z"
    }
   },
   "cell_type": "code",
   "source": "len(movie_texts)",
   "id": "d1321c302b2dbcff",
   "outputs": [
    {
     "data": {
      "text/plain": [
       "304713"
      ]
     },
     "execution_count": 8,
     "metadata": {},
     "output_type": "execute_result"
    }
   ],
   "execution_count": 8
  },
  {
   "metadata": {
    "ExecuteTime": {
     "end_time": "2025-04-27T19:06:57.640382Z",
     "start_time": "2025-04-27T19:06:57.638098Z"
    }
   },
   "cell_type": "code",
   "source": "movie_texts[:10]",
   "id": "cf8e4d6399eb87e8",
   "outputs": [
    {
     "data": {
      "text/plain": [
       "['They do not!',\n",
       " 'They do to!',\n",
       " 'I hope so.',\n",
       " 'She okay?',\n",
       " \"Let's go.\",\n",
       " 'Wow',\n",
       " \"Okay -- you're gonna need to learn how to lie.\",\n",
       " 'No',\n",
       " 'I\\'m kidding.  You know how sometimes you just become this \"persona\"?  And you don\\'t know how to quit?',\n",
       " 'Like my fear of wearing pastels?']"
      ]
     },
     "execution_count": 9,
     "metadata": {},
     "output_type": "execute_result"
    }
   ],
   "execution_count": 9
  },
  {
   "metadata": {
    "ExecuteTime": {
     "end_time": "2025-04-27T19:06:59.479830Z",
     "start_time": "2025-04-27T19:06:59.476450Z"
    }
   },
   "cell_type": "code",
   "source": "len(simpsons_texts)",
   "id": "dbaf76fc50042347",
   "outputs": [
    {
     "data": {
      "text/plain": [
       "131855"
      ]
     },
     "execution_count": 10,
     "metadata": {},
     "output_type": "execute_result"
    }
   ],
   "execution_count": 10
  },
  {
   "metadata": {
    "ExecuteTime": {
     "end_time": "2025-04-27T19:07:00.291885Z",
     "start_time": "2025-04-27T19:07:00.289117Z"
    }
   },
   "cell_type": "code",
   "source": "simpsons_texts[:10]",
   "id": "2774705f95165209",
   "outputs": [
    {
     "data": {
      "text/plain": [
       "[\"No, actually, it was a little of both. Sometimes when a disease is in all the magazines and all the news shows, it's only natural that you think you have it.\",\n",
       " \"Where's Mr. Bergstrom?\",\n",
       " \"I don't know. Although I'd sure like to talk to him. He didn't touch my lesson plan. What did he teach you?\",\n",
       " 'That life is worth living.',\n",
       " \"The polls will be open from now until the end of recess. Now, just in case any of you have decided to put any thought into this, we'll have our final statements. Martin?\",\n",
       " \"I don't think there's anything left to say.\",\n",
       " 'Bart?',\n",
       " 'Victory party under the slide!',\n",
       " 'Mr. Bergstrom! Mr. Bergstrom!',\n",
       " 'Hey, hey, he Moved out this morning. He must have a new job -- he took his Copernicus costume.']"
      ]
     },
     "execution_count": 11,
     "metadata": {},
     "output_type": "execute_result"
    }
   ],
   "execution_count": 11
  },
  {
   "metadata": {},
   "cell_type": "markdown",
   "source": "### Preprocessing",
   "id": "e79fd2cdfb014543"
  },
  {
   "metadata": {
    "ExecuteTime": {
     "end_time": "2025-04-27T19:07:02.348720Z",
     "start_time": "2025-04-27T19:07:02.080581Z"
    }
   },
   "cell_type": "code",
   "source": "nlp = load(\"en_core_web_sm\", disable=[\"parser\", \"ner\"])",
   "id": "5fc3b34ef6e150d4",
   "outputs": [],
   "execution_count": 12
  },
  {
   "metadata": {
    "ExecuteTime": {
     "end_time": "2025-04-27T19:07:02.605046Z",
     "start_time": "2025-04-27T19:07:02.602009Z"
    }
   },
   "cell_type": "code",
   "source": "STOP_WORDS = nlp.Defaults.stop_words",
   "id": "ed1b19dbbc73f7cc",
   "outputs": [],
   "execution_count": 13
  },
  {
   "metadata": {
    "ExecuteTime": {
     "end_time": "2025-04-27T19:07:04.648173Z",
     "start_time": "2025-04-27T19:07:04.644583Z"
    }
   },
   "cell_type": "code",
   "source": [
    "def preprocess_text(text: str) -> list[str]:\n",
    "    document = nlp(text.lower())\n",
    "    return [\n",
    "        token.lemma_ for token in document\n",
    "        if token.is_alpha and token.lemma_ not in STOP_WORDS and len(token) > 2\n",
    "    ]"
   ],
   "id": "13e2c4951b3a197f",
   "outputs": [],
   "execution_count": 14
  },
  {
   "metadata": {
    "ExecuteTime": {
     "end_time": "2025-04-27T19:07:05.213243Z",
     "start_time": "2025-04-27T19:07:05.210943Z"
    }
   },
   "cell_type": "code",
   "source": "texts = simpsons_texts",
   "id": "2e7f34b2027440be",
   "outputs": [],
   "execution_count": 15
  },
  {
   "metadata": {
    "ExecuteTime": {
     "end_time": "2025-04-27T19:10:01.816463Z",
     "start_time": "2025-04-27T19:07:06.210743Z"
    }
   },
   "cell_type": "code",
   "source": "tokens = [t for t in map(preprocess_text, texts) if len(t) >= 3]",
   "id": "d9f8d615ede803ac",
   "outputs": [],
   "execution_count": 16
  },
  {
   "metadata": {
    "ExecuteTime": {
     "end_time": "2025-04-27T19:21:36.477308Z",
     "start_time": "2025-04-27T19:21:36.474059Z"
    }
   },
   "cell_type": "code",
   "source": "t_values = [n for n in range(4, 4 * 5 + 1, 4)]",
   "id": "a30ba89e31f1348d",
   "outputs": [],
   "execution_count": 17
  },
  {
   "metadata": {},
   "cell_type": "markdown",
   "source": "### LDA",
   "id": "d789974cc87851d6"
  },
  {
   "metadata": {
    "ExecuteTime": {
     "end_time": "2025-04-27T19:23:20.629798Z",
     "start_time": "2025-04-27T19:23:20.072766Z"
    }
   },
   "cell_type": "code",
   "source": [
    "dictionary = corpora.Dictionary(tokens)\n",
    "dictionary.filter_extremes(no_below=10, no_above=0.5)\n",
    "corpus = [dictionary.doc2bow(doc) for doc in tokens]"
   ],
   "id": "cb37b479bce7447b",
   "outputs": [],
   "execution_count": 18
  },
  {
   "metadata": {
    "ExecuteTime": {
     "end_time": "2025-04-27T19:24:55.240157Z",
     "start_time": "2025-04-27T19:24:55.237243Z"
    }
   },
   "cell_type": "code",
   "source": [
    "lda_coherences = []\n",
    "lda_perplexities = []\n",
    "lda_models_by_t = {}"
   ],
   "id": "599260ced2f4a388",
   "outputs": [],
   "execution_count": 19
  },
  {
   "metadata": {
    "ExecuteTime": {
     "end_time": "2025-04-27T19:27:43.277036Z",
     "start_time": "2025-04-27T19:24:58.351841Z"
    }
   },
   "cell_type": "code",
   "source": [
    "for num_topics in t_values:\n",
    "    lda = LdaModel(\n",
    "        corpus=corpus,\n",
    "        id2word=dictionary,\n",
    "        num_topics=num_topics,\n",
    "        passes=10,\n",
    "        random_state=99,\n",
    "    )\n",
    "    cm = CoherenceModel(\n",
    "        model=lda,\n",
    "        texts=tokens,\n",
    "        dictionary=dictionary,\n",
    "        coherence='c_v'\n",
    "    )\n",
    "    coh = cm.get_coherence()\n",
    "    lda_coherences.append(coh)\n",
    "    perp = lda.log_perplexity(corpus)\n",
    "    lda_perplexities.append(np.exp(-perp))\n",
    "    lda_models_by_t[num_topics] = lda"
   ],
   "id": "6b1dfc8bcd9a63a2",
   "outputs": [],
   "execution_count": 20
  },
  {
   "metadata": {
    "ExecuteTime": {
     "end_time": "2025-04-27T19:27:53.187473Z",
     "start_time": "2025-04-27T19:27:52.992222Z"
    }
   },
   "cell_type": "code",
   "source": [
    "df = pd.DataFrame(\n",
    "    {\n",
    "        \"T\": t_values,\n",
    "        \"Coherence\": lda_coherences,\n",
    "        \"Perplexity\": lda_perplexities\n",
    "    }\n",
    ")\n",
    "\n",
    "sns.set_style(\"whitegrid\")\n",
    "\n",
    "fig, ax1 = plt.subplots(figsize=(8, 5))\n",
    "sns.lineplot(\n",
    "    data=df, x=\"T\", y=\"Coherence\",\n",
    "    marker=\"o\", color=\"seagreen\", label=\"Coherence (c_v)\",\n",
    "    ax=ax1\n",
    ")\n",
    "ax1.set_xlabel(\"Number of topics T\")\n",
    "ax1.set_ylabel(\"Coherence (c_v)\", color=\"seagreen\")\n",
    "ax1.tick_params(axis=\"y\", labelcolor=\"seagreen\")\n",
    "\n",
    "ax2 = ax1.twinx()\n",
    "sns.lineplot(\n",
    "    data=df, x=\"T\", y=\"Perplexity\",\n",
    "    marker=\"s\", color=\"steelblue\", label=\"Perplexity\",\n",
    "    ax=ax2\n",
    ")\n",
    "ax2.set_ylabel(\"Perplexity\", color=\"steelblue\")\n",
    "ax2.tick_params(axis=\"y\", labelcolor=\"steelblue\")\n",
    "\n",
    "lines_1, labels_1 = ax1.get_legend_handles_labels()\n",
    "lines_2, labels_2 = ax2.get_legend_handles_labels()\n",
    "ax1.legend(lines_1 + lines_2, labels_1 + labels_2, loc=\"upper center\")\n",
    "\n",
    "plt.title(\"LDA: Coherence vs Perplexity\")\n",
    "plt.tight_layout()\n",
    "plt.show()"
   ],
   "id": "2292b44ab7c9f378",
   "outputs": [
    {
     "data": {
      "text/plain": [
       "<Figure size 800x500 with 2 Axes>"
      ],
      "image/png": "[encoded data removed]"
     },
     "metadata": {},
     "output_type": "display_data"
    }
   ],
   "execution_count": 21
  },
  {
   "metadata": {},
   "cell_type": "markdown",
   "source": "### LDA",
   "id": "308bb49447881f1f"
  },
  {
   "metadata": {
    "ExecuteTime": {
     "end_time": "2025-04-27T19:28:42.106023Z",
     "start_time": "2025-04-27T19:28:11.492687Z"
    }
   },
   "cell_type": "code",
   "source": "tmp.report(lda_models_by_t[12], docs=texts, corpus=corpus)",
   "id": "3050f4496f92b3c2",
   "outputs": [
    {
     "data": {
      "text/plain": [
       "VBox(children=(VBox(children=(HBox(children=(HTML(value='<b>Select a topic</b>:'), Dropdown(options=((0, 0), (…"
      ],
      "application/vnd.jupyter.widget-view+json": {
       "version_major": 2,
       "version_minor": 0,
       "model_id": "ea6ab915da2d4d0d831b2f9599630e03"
      }
     },
     "execution_count": 22,
     "metadata": {},
     "output_type": "execute_result"
    }
   ],
   "execution_count": 22
  },
  {
   "metadata": {},
   "cell_type": "markdown",
   "source": "### BTM",
   "id": "1e98fa2c562a794d"
  },
  {
   "metadata": {
    "ExecuteTime": {
     "end_time": "2025-04-27T19:30:02.115066Z",
     "start_time": "2025-04-27T19:30:02.093759Z"
    }
   },
   "cell_type": "code",
   "source": "docs_text = [\" \".join(doc) for doc in tokens]",
   "id": "7c7f5f3cbe74fe09",
   "outputs": [],
   "execution_count": 23
  },
  {
   "metadata": {
    "ExecuteTime": {
     "end_time": "2025-04-27T19:30:06.180678Z",
     "start_time": "2025-04-27T19:30:05.933898Z"
    }
   },
   "cell_type": "code",
   "source": "X, vocabulary, vocab_dict = btm.get_words_freqs(docs_text)",
   "id": "3c10a9580b950338",
   "outputs": [],
   "execution_count": 24
  },
  {
   "metadata": {
    "ExecuteTime": {
     "end_time": "2025-04-27T19:30:08.653120Z",
     "start_time": "2025-04-27T19:30:07.162108Z"
    }
   },
   "cell_type": "code",
   "source": [
    "docs_vec = btm.get_vectorized_docs(docs_text, vocabulary)\n",
    "biterms = btm.get_biterms(docs_vec)"
   ],
   "id": "61aae47017695103",
   "outputs": [],
   "execution_count": 25
  },
  {
   "metadata": {
    "ExecuteTime": {
     "end_time": "2025-04-27T19:30:20.301682Z",
     "start_time": "2025-04-27T19:30:10.334986Z"
    }
   },
   "cell_type": "code",
   "source": [
    "btm_model = btm.BTM(\n",
    "    X,\n",
    "    vocabulary,\n",
    "    T=12,\n",
    "    M=20,\n",
    "    alpha=50 / 12,\n",
    "    beta=0.01,\n",
    "    seed=42\n",
    ")\n",
    "btm_model.fit(biterms, iterations=100)"
   ],
   "id": "f73c09ed5cca044f",
   "outputs": [
    {
     "name": "stderr",
     "output_type": "stream",
     "text": [
      "100%|██████████| 100/100 [00:09<00:00, 10.26it/s]\n"
     ]
    }
   ],
   "execution_count": 26
  },
  {
   "metadata": {
    "ExecuteTime": {
     "end_time": "2025-04-27T19:30:22.184621Z",
     "start_time": "2025-04-27T19:30:21.970461Z"
    }
   },
   "cell_type": "code",
   "source": "tmp.report(btm_model, docs=docs_text)",
   "id": "dc51c468f056c8e8",
   "outputs": [
    {
     "name": "stderr",
     "output_type": "stream",
     "text": [
      "/Users/bezstrok/Projects/Research-EDA/.venv/lib/python3.12/site-packages/tmplot/_helpers.py:268: RuntimeWarning: invalid value encountered in divide\n",
      "  p_t /= p_t.sum()\n"
     ]
    },
    {
     "data": {
      "text/plain": [
       "VBox(children=(VBox(children=(HBox(children=(HTML(value='<b>Select a topic</b>:'), Dropdown(options=((0, 0), (…"
      ],
      "application/vnd.jupyter.widget-view+json": {
       "version_major": 2,
       "version_minor": 0,
       "model_id": "d01232a805074554af0492bda48d7ff9"
      }
     },
     "execution_count": 27,
     "metadata": {},
     "output_type": "execute_result"
    }
   ],
   "execution_count": 27
  }
 ],
 "metadata": {
  "kernelspec": {
   "display_name": "Python 3",
   "language": "python",
   "name": "python3"
  },
  "language_info": {
   "codemirror_mode": {
    "name": "ipython",
    "version": 2
   },
   "file_extension": ".py",
   "mimetype": "text/x-python",
   "name": "python",
   "nbconvert_exporter": "python",
   "pygments_lexer": "ipython2",
   "version": "2.7.6"
  }
 },
 "nbformat": 4,
 "nbformat_minor": 5
}
